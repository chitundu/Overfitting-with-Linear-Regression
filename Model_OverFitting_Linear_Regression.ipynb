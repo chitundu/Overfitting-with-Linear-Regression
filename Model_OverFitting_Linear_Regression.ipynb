{
  "nbformat": 4,
  "nbformat_minor": 0,
  "metadata": {
    "colab": {
      "provenance": []
    },
    "kernelspec": {
      "name": "python3",
      "display_name": "Python 3"
    },
    "language_info": {
      "name": "python"
    }
  },
  "cells": [
    {
      "cell_type": "code",
      "execution_count": 1,
      "metadata": {
        "id": "TY3R3GJ442hL"
      },
      "outputs": [],
      "source": [
        "import numpy as np\n",
        "import matplotlib.pyplot as plt"
      ]
    },
    {
      "cell_type": "code",
      "source": [
        "#matplotlib inline"
      ],
      "metadata": {
        "id": "jMoHFFzHHssN"
      },
      "execution_count": null,
      "outputs": []
    },
    {
      "cell_type": "code",
      "source": [
        "from numpy.random import random"
      ],
      "metadata": {
        "id": "qSdr9H2BHyfw"
      },
      "execution_count": 2,
      "outputs": []
    },
    {
      "cell_type": "code",
      "source": [
        "N = 1500"
      ],
      "metadata": {
        "id": "z65kA00EHy2h"
      },
      "execution_count": 3,
      "outputs": []
    },
    {
      "cell_type": "code",
      "source": [
        "mean1 = [6,14]"
      ],
      "metadata": {
        "id": "MXrdJUKaHy5d"
      },
      "execution_count": 4,
      "outputs": []
    },
    {
      "cell_type": "code",
      "source": [
        "mean2 = [10,6]"
      ],
      "metadata": {
        "id": "RiTH8prQHy-C"
      },
      "execution_count": 5,
      "outputs": []
    },
    {
      "cell_type": "code",
      "source": [
        "mean3 = [14,14]"
      ],
      "metadata": {
        "id": "b1OkR38lHzBe"
      },
      "execution_count": 6,
      "outputs": []
    },
    {
      "cell_type": "code",
      "source": [
        "cov = [[3.5, 0], [0,3.5]]"
      ],
      "metadata": {
        "id": "0P5AjX8XIBgw"
      },
      "execution_count": 7,
      "outputs": []
    },
    {
      "cell_type": "code",
      "source": [
        "cov = [[3.5, 3], [18, 3.5]]"
      ],
      "metadata": {
        "id": "aJPoBcI6IEt8"
      },
      "execution_count": 8,
      "outputs": []
    },
    {
      "cell_type": "code",
      "source": [
        "cov"
      ],
      "metadata": {
        "colab": {
          "base_uri": "https://localhost:8080/"
        },
        "id": "Gmje0oBeMmCc",
        "outputId": "fd08ebe7-f5f0-4c09-869f-6bdd2c6ef231"
      },
      "execution_count": 11,
      "outputs": [
        {
          "output_type": "execute_result",
          "data": {
            "text/plain": [
              "[[3.5, 3], [18, 3.5]]"
            ]
          },
          "metadata": {},
          "execution_count": 11
        }
      ]
    },
    {
      "cell_type": "code",
      "source": [
        "np.random.seed(50)"
      ],
      "metadata": {
        "id": "kisBlq0jIGyy"
      },
      "execution_count": 9,
      "outputs": []
    },
    {
      "cell_type": "code",
      "source": [
        "X = np.random.multivariate_normal(mean1, cov, int(N/6))"
      ],
      "metadata": {
        "colab": {
          "base_uri": "https://localhost:8080/"
        },
        "id": "zh7qyMtHIJjQ",
        "outputId": "6486a3d4-abd2-4e91-b183-db078a31722c"
      },
      "execution_count": 10,
      "outputs": [
        {
          "output_type": "stream",
          "name": "stderr",
          "text": [
            "<ipython-input-10-7df09abd50cd>:1: RuntimeWarning: covariance is not symmetric positive-semidefinite.\n",
            "  X = np.random.multivariate_normal(mean1, cov, int(N/6))\n"
          ]
        }
      ]
    },
    {
      "cell_type": "code",
      "source": [
        "X.shape"
      ],
      "metadata": {
        "colab": {
          "base_uri": "https://localhost:8080/"
        },
        "id": "_066a8csILih",
        "outputId": "07655835-c31e-439f-fce4-4f1e3bbe3920"
      },
      "execution_count": 12,
      "outputs": [
        {
          "output_type": "execute_result",
          "data": {
            "text/plain": [
              "(250, 2)"
            ]
          },
          "metadata": {},
          "execution_count": 12
        }
      ]
    },
    {
      "cell_type": "code",
      "source": [
        "X[0]"
      ],
      "metadata": {
        "colab": {
          "base_uri": "https://localhost:8080/"
        },
        "id": "aetWtrvrNreg",
        "outputId": "1db4df25-391e-4c90-f8bd-1ac75a7f8c91"
      },
      "execution_count": 13,
      "outputs": [
        {
          "output_type": "execute_result",
          "data": {
            "text/plain": [
              "array([12.59080095, 15.50948013])"
            ]
          },
          "metadata": {},
          "execution_count": 13
        }
      ]
    },
    {
      "cell_type": "code",
      "source": [
        "X[:,1].sum()"
      ],
      "metadata": {
        "colab": {
          "base_uri": "https://localhost:8080/"
        },
        "id": "wXC26jlsNtHi",
        "outputId": "833d2661-3d16-4aff-d7a8-6341f96bb7ec"
      },
      "execution_count": 14,
      "outputs": [
        {
          "output_type": "execute_result",
          "data": {
            "text/plain": [
              "3551.856996969489"
            ]
          },
          "metadata": {},
          "execution_count": 14
        }
      ]
    },
    {
      "cell_type": "code",
      "source": [
        "3551.856996969489/250"
      ],
      "metadata": {
        "colab": {
          "base_uri": "https://localhost:8080/"
        },
        "id": "ouNkBMQyNtKv",
        "outputId": "68edc155-6683-47ad-da7a-bca9f23d1a33"
      },
      "execution_count": 15,
      "outputs": [
        {
          "output_type": "execute_result",
          "data": {
            "text/plain": [
              "14.207427987877956"
            ]
          },
          "metadata": {},
          "execution_count": 15
        }
      ]
    },
    {
      "cell_type": "code",
      "source": [
        "X= np.concatenate((X, np.random.multivariate_normal(mean2, cov, int(N/6))))"
      ],
      "metadata": {
        "colab": {
          "base_uri": "https://localhost:8080/"
        },
        "id": "IZVwtJIjNtOp",
        "outputId": "30f6c43e-938c-457b-f955-fbb8bb37cffa"
      },
      "execution_count": 16,
      "outputs": [
        {
          "output_type": "stream",
          "name": "stderr",
          "text": [
            "<ipython-input-16-da8291074c8e>:1: RuntimeWarning: covariance is not symmetric positive-semidefinite.\n",
            "  X= np.concatenate((X, np.random.multivariate_normal(mean2, cov, int(N/6))))\n"
          ]
        }
      ]
    },
    {
      "cell_type": "code",
      "source": [
        "X.shape"
      ],
      "metadata": {
        "colab": {
          "base_uri": "https://localhost:8080/"
        },
        "id": "_ppdqW15NtSW",
        "outputId": "59afb9f5-caab-4c65-c6be-589e18af7e26"
      },
      "execution_count": 17,
      "outputs": [
        {
          "output_type": "execute_result",
          "data": {
            "text/plain": [
              "(500, 2)"
            ]
          },
          "metadata": {},
          "execution_count": 17
        }
      ]
    },
    {
      "cell_type": "code",
      "source": [
        "X= np.concatenate((X, np.random.multivariate_normal(mean3, cov, int(N/6))))"
      ],
      "metadata": {
        "colab": {
          "base_uri": "https://localhost:8080/"
        },
        "id": "itbR-ixcOECC",
        "outputId": "ddc266c2-1253-4a48-f862-35765ce5f5b7"
      },
      "execution_count": 18,
      "outputs": [
        {
          "output_type": "stream",
          "name": "stderr",
          "text": [
            "<ipython-input-18-c84072cbcd0d>:1: RuntimeWarning: covariance is not symmetric positive-semidefinite.\n",
            "  X= np.concatenate((X, np.random.multivariate_normal(mean3, cov, int(N/6))))\n"
          ]
        }
      ]
    },
    {
      "cell_type": "code",
      "source": [
        "X.shape"
      ],
      "metadata": {
        "colab": {
          "base_uri": "https://localhost:8080/"
        },
        "id": "XPsQVN7ROEFB",
        "outputId": "4779843c-0a27-4517-cbd1-8b49ef6b842a"
      },
      "execution_count": 19,
      "outputs": [
        {
          "output_type": "execute_result",
          "data": {
            "text/plain": [
              "(750, 2)"
            ]
          },
          "metadata": {},
          "execution_count": 19
        }
      ]
    },
    {
      "cell_type": "code",
      "source": [
        "X=np.concatenate((X, 20*np.random.rand(int(N/2), 2)))"
      ],
      "metadata": {
        "id": "5IxkPqhQOEIv"
      },
      "execution_count": 20,
      "outputs": []
    },
    {
      "cell_type": "code",
      "source": [
        "X.shape"
      ],
      "metadata": {
        "colab": {
          "base_uri": "https://localhost:8080/"
        },
        "id": "adnkGpNvNtm9",
        "outputId": "929ef49c-10e6-4090-f79b-71e5d8d688e7"
      },
      "execution_count": 21,
      "outputs": [
        {
          "output_type": "execute_result",
          "data": {
            "text/plain": [
              "(1500, 2)"
            ]
          },
          "metadata": {},
          "execution_count": 21
        }
      ]
    },
    {
      "cell_type": "code",
      "source": [
        "X"
      ],
      "metadata": {
        "colab": {
          "base_uri": "https://localhost:8080/"
        },
        "id": "Um3KvsW8OUO2",
        "outputId": "a5bdc979-a7a3-49c4-8fa9-0e23e02295a8"
      },
      "execution_count": 22,
      "outputs": [
        {
          "output_type": "execute_result",
          "data": {
            "text/plain": [
              "array([[12.59080095, 15.50948013],\n",
              "       [ 8.1537339 , 16.71481051],\n",
              "       [-0.12696371, 13.36889974],\n",
              "       ...,\n",
              "       [17.10881966,  8.27100981],\n",
              "       [ 4.63522923,  4.47963684],\n",
              "       [ 7.45080691,  0.31260003]])"
            ]
          },
          "metadata": {},
          "execution_count": 22
        }
      ]
    },
    {
      "cell_type": "code",
      "source": [
        "y=np.concatenate((np.ones(int(N/2)), np.zeros(int(N/2))))"
      ],
      "metadata": {
        "id": "3hozjB-rOUWE"
      },
      "execution_count": 23,
      "outputs": []
    },
    {
      "cell_type": "code",
      "source": [
        "y"
      ],
      "metadata": {
        "colab": {
          "base_uri": "https://localhost:8080/"
        },
        "id": "pslp270FOUZb",
        "outputId": "0227e809-6421-4efd-cb94-d5754c523559"
      },
      "execution_count": 24,
      "outputs": [
        {
          "output_type": "execute_result",
          "data": {
            "text/plain": [
              "array([1., 1., 1., ..., 0., 0., 0.])"
            ]
          },
          "metadata": {},
          "execution_count": 24
        }
      ]
    },
    {
      "cell_type": "code",
      "source": [
        "plt.plot(X[:int(N/2), 0], X[:int(N/2),1], 'r+', X[int(N/2):,0],X[int(N/2):,1],'k.', ms=4)"
      ],
      "metadata": {
        "colab": {
          "base_uri": "https://localhost:8080/",
          "height": 465
        },
        "id": "auj3YUmrOUct",
        "outputId": "bb027fc5-1634-42e3-d2cb-220365862e4c"
      },
      "execution_count": 25,
      "outputs": [
        {
          "output_type": "execute_result",
          "data": {
            "text/plain": [
              "[<matplotlib.lines.Line2D at 0x7f7ea4783670>,\n",
              " <matplotlib.lines.Line2D at 0x7f7ea4783700>]"
            ]
          },
          "metadata": {},
          "execution_count": 25
        },
        {
          "output_type": "display_data",
          "data": {
            "text/plain": [
              "<Figure size 640x480 with 1 Axes>"
            ],
            "image/png": "[encoded data removed]"
          },
          "metadata": {}
        }
      ]
    },
    {
      "cell_type": "code",
      "source": [
        "# Training and Test set creation"
      ],
      "metadata": {
        "id": "3Mi1LL7zOezh"
      },
      "execution_count": 26,
      "outputs": []
    },
    {
      "cell_type": "code",
      "source": [
        "from sklearn.model_selection import train_test_split"
      ],
      "metadata": {
        "id": "Jk_Rg6fgOe2p"
      },
      "execution_count": 27,
      "outputs": []
    },
    {
      "cell_type": "code",
      "source": [
        "X"
      ],
      "metadata": {
        "colab": {
          "base_uri": "https://localhost:8080/"
        },
        "id": "jqoVzdYDTucw",
        "outputId": "37b47fbd-d51a-4ad3-b55d-81efd4a892dd"
      },
      "execution_count": 31,
      "outputs": [
        {
          "output_type": "execute_result",
          "data": {
            "text/plain": [
              "array([[12.59080095, 15.50948013],\n",
              "       [ 8.1537339 , 16.71481051],\n",
              "       [-0.12696371, 13.36889974],\n",
              "       ...,\n",
              "       [17.10881966,  8.27100981],\n",
              "       [ 4.63522923,  4.47963684],\n",
              "       [ 7.45080691,  0.31260003]])"
            ]
          },
          "metadata": {},
          "execution_count": 31
        }
      ]
    },
    {
      "cell_type": "code",
      "source": [
        "X_train, X_test, y_train, y_test = train_test_split(X, y, train_size=0.8, random_state=11)"
      ],
      "metadata": {
        "id": "9krKbGFGOe55"
      },
      "execution_count": 32,
      "outputs": []
    },
    {
      "cell_type": "code",
      "source": [
        "X_train.shape"
      ],
      "metadata": {
        "colab": {
          "base_uri": "https://localhost:8080/"
        },
        "id": "pGfsZyi9Pqu7",
        "outputId": "d2766d6f-d273-4ba5-d200-d10b6abc75a2"
      },
      "execution_count": 33,
      "outputs": [
        {
          "output_type": "execute_result",
          "data": {
            "text/plain": [
              "(1200, 2)"
            ]
          },
          "metadata": {},
          "execution_count": 33
        }
      ]
    },
    {
      "cell_type": "code",
      "source": [
        "X_test.shape"
      ],
      "metadata": {
        "colab": {
          "base_uri": "https://localhost:8080/"
        },
        "id": "mGNkAcX9Oe9K",
        "outputId": "b130dec4-1a3d-46ab-d2c4-b0ab317eb7f3"
      },
      "execution_count": 34,
      "outputs": [
        {
          "output_type": "execute_result",
          "data": {
            "text/plain": [
              "(300, 2)"
            ]
          },
          "metadata": {},
          "execution_count": 34
        }
      ]
    },
    {
      "cell_type": "code",
      "source": [
        "X_train[0]"
      ],
      "metadata": {
        "colab": {
          "base_uri": "https://localhost:8080/"
        },
        "id": "CQ-Q8-bxQGTy",
        "outputId": "fd93bf94-63b4-4468-9430-9c923819a51b"
      },
      "execution_count": 35,
      "outputs": [
        {
          "output_type": "execute_result",
          "data": {
            "text/plain": [
              "array([ 4.62728194, 15.56260526])"
            ]
          },
          "metadata": {},
          "execution_count": 35
        }
      ]
    },
    {
      "cell_type": "code",
      "source": [
        "from sklearn import tree"
      ],
      "metadata": {
        "id": "KKJjI_AwQHd_"
      },
      "execution_count": 36,
      "outputs": []
    },
    {
      "cell_type": "code",
      "source": [
        "from sklearn.metrics import accuracy_score"
      ],
      "metadata": {
        "id": "dqlBQMC1QN_Q"
      },
      "execution_count": 37,
      "outputs": []
    },
    {
      "cell_type": "code",
      "source": [
        "maxDepth=[2,3,4,5,6,7,8,9,10,15,20,25,30,35,40,45,50]"
      ],
      "metadata": {
        "id": "GbC8_G7RQOQS"
      },
      "execution_count": 38,
      "outputs": []
    },
    {
      "cell_type": "code",
      "source": [
        "len(maxDepth)"
      ],
      "metadata": {
        "colab": {
          "base_uri": "https://localhost:8080/"
        },
        "id": "Pms2SscuQOTg",
        "outputId": "59eed0ba-14b7-4e02-ecec-281134c9ce19"
      },
      "execution_count": 39,
      "outputs": [
        {
          "output_type": "execute_result",
          "data": {
            "text/plain": [
              "17"
            ]
          },
          "metadata": {},
          "execution_count": 39
        }
      ]
    },
    {
      "cell_type": "code",
      "source": [
        "trainAcc=np.zeros(len(maxDepth))\n"
      ],
      "metadata": {
        "id": "qgoXajrnQOWn"
      },
      "execution_count": 40,
      "outputs": []
    },
    {
      "cell_type": "code",
      "source": [
        "trainAcc"
      ],
      "metadata": {
        "colab": {
          "base_uri": "https://localhost:8080/"
        },
        "id": "HFrXlBHzRA8L",
        "outputId": "07ab1223-45ba-4e82-80a0-cac771627cc3"
      },
      "execution_count": 41,
      "outputs": [
        {
          "output_type": "execute_result",
          "data": {
            "text/plain": [
              "array([0., 0., 0., 0., 0., 0., 0., 0., 0., 0., 0., 0., 0., 0., 0., 0., 0.])"
            ]
          },
          "metadata": {},
          "execution_count": 41
        }
      ]
    },
    {
      "cell_type": "code",
      "source": [
        "testAcc=np.zeros(len(maxDepth))"
      ],
      "metadata": {
        "id": "LwO2I3b3RCCl"
      },
      "execution_count": 42,
      "outputs": []
    },
    {
      "cell_type": "code",
      "source": [
        "trainAcc = np.zeros(len(maxDepth))"
      ],
      "metadata": {
        "id": "MuG1HPm_XnAU"
      },
      "execution_count": 60,
      "outputs": []
    },
    {
      "cell_type": "code",
      "source": [
        "index=0"
      ],
      "metadata": {
        "id": "578IFlM4RCIX"
      },
      "execution_count": 61,
      "outputs": []
    },
    {
      "cell_type": "code",
      "source": [
        "for depth in maxDepth:\n",
        "  clf = tree.DecisionTreeClassifier(max_depth=depth)\n",
        "  clf = clf.fit(X_train, y_train)\n",
        "  y_predTrain=clf.predict(X_train)\n",
        "  y_predTest=clf.predict(X_test)\n",
        "  trainAcc[index]=accuracy_score(y_train, y_predTrain)\n",
        "  testAcc[index]=accuracy_score(y_test, y_predTest)\n",
        "  index +=1"
      ],
      "metadata": {
        "id": "L2pGMavARCLq"
      },
      "execution_count": 62,
      "outputs": []
    },
    {
      "cell_type": "code",
      "source": [
        "testAcc"
      ],
      "metadata": {
        "colab": {
          "base_uri": "https://localhost:8080/"
        },
        "id": "_qIpMRvMRCTk",
        "outputId": "1985d60a-a718-4e26-896d-d10b69707219"
      },
      "execution_count": 63,
      "outputs": [
        {
          "output_type": "execute_result",
          "data": {
            "text/plain": [
              "array([0.62666667, 0.62666667, 0.62666667, 0.66666667, 0.67      ,\n",
              "       0.67      , 0.68      , 0.65666667, 0.66333333, 0.63666667,\n",
              "       0.61333333, 0.63      , 0.63      , 0.61666667, 0.62666667,\n",
              "       0.62      , 0.62666667])"
            ]
          },
          "metadata": {},
          "execution_count": 63
        }
      ]
    },
    {
      "cell_type": "code",
      "source": [
        "trainAcc"
      ],
      "metadata": {
        "colab": {
          "base_uri": "https://localhost:8080/"
        },
        "id": "BcLGVVi2U8ea",
        "outputId": "0c9f1ebc-a269-4889-dda6-e2375dee077d"
      },
      "execution_count": 65,
      "outputs": [
        {
          "output_type": "execute_result",
          "data": {
            "text/plain": [
              "array([0.6275    , 0.66333333, 0.6675    , 0.70583333, 0.73333333,\n",
              "       0.74833333, 0.77166667, 0.79166667, 0.8175    , 0.91166667,\n",
              "       0.97      , 0.99083333, 0.99833333, 1.        , 1.        ,\n",
              "       1.        , 1.        ])"
            ]
          },
          "metadata": {},
          "execution_count": 65
        }
      ]
    },
    {
      "cell_type": "code",
      "source": [
        "plt.plot(maxDepth, trainAcc, 'ro-', maxDepth, testAcc, 'bv--')\n",
        "plt.legend(['Training Accuracy', 'Test Accuracy'])\n",
        "plt.xlabel('Max Depth')\n",
        "plt.ylabel('Accuracy')"
      ],
      "metadata": {
        "colab": {
          "base_uri": "https://localhost:8080/",
          "height": 466
        },
        "id": "IRu36FgaVkcJ",
        "outputId": "43e5485a-ce14-4176-dd3f-dde12d7d5e25"
      },
      "execution_count": 66,
      "outputs": [
        {
          "output_type": "execute_result",
          "data": {
            "text/plain": [
              "Text(0, 0.5, 'Accuracy')"
            ]
          },
          "metadata": {},
          "execution_count": 66
        },
        {
          "output_type": "display_data",
          "data": {
            "text/plain": [
              "<Figure size 640x480 with 1 Axes>"
            ],
            "image/png": "[encoded data removed]"
          },
          "metadata": {}
        }
      ]
    },
    {
      "cell_type": "code",
      "source": [
        "# using x and y values to make a linear regression model\n",
        "\n",
        "from sklearn.linear_model import LinearRegression"
      ],
      "metadata": {
        "id": "JIazGO9ZZvRU"
      },
      "execution_count": 67,
      "outputs": []
    },
    {
      "cell_type": "code",
      "source": [
        "# Create a linear regression model\n",
        "model = LinearRegression()"
      ],
      "metadata": {
        "id": "YW0zSxYxamfD"
      },
      "execution_count": 68,
      "outputs": []
    },
    {
      "cell_type": "code",
      "source": [
        "# Fit the model to the data\n",
        "model.fit(X=X_train, y=y_train)"
      ],
      "metadata": {
        "colab": {
          "base_uri": "https://localhost:8080/",
          "height": 75
        },
        "id": "S_juurY-aqcz",
        "outputId": "3b0b0f49-37ad-409a-aa8a-548959815bd2"
      },
      "execution_count": 70,
      "outputs": [
        {
          "output_type": "execute_result",
          "data": {
            "text/plain": [
              "LinearRegression()"
            ],
            "text/html": [
              "<style>#sk-container-id-2 {color: black;background-color: white;}#sk-container-id-2 pre{padding: 0;}#sk-container-id-2 div.sk-toggleable {background-color: white;}#sk-container-id-2 label.sk-toggleable__label {cursor: pointer;display: block;width: 100%;margin-bottom: 0;padding: 0.3em;box-sizing: border-box;text-align: center;}#sk-container-id-2 label.sk-toggleable__label-arrow:before {content: \"▸\";float: left;margin-right: 0.25em;color: #696969;}#sk-container-id-2 label.sk-toggleable__label-arrow:hover:before {color: black;}#sk-container-id-2 div.sk-estimator:hover label.sk-toggleable__label-arrow:before {color: black;}#sk-container-id-2 div.sk-toggleable__content {max-height: 0;max-width: 0;overflow: hidden;text-align: left;background-color: #f0f8ff;}#sk-container-id-2 div.sk-toggleable__content pre {margin: 0.2em;color: black;border-radius: 0.25em;background-color: #f0f8ff;}#sk-container-id-2 input.sk-toggleable__control:checked~div.sk-toggleable__content {max-height: 200px;max-width: 100%;overflow: auto;}#sk-container-id-2 input.sk-toggleable__control:checked~label.sk-toggleable__label-arrow:before {content: \"▾\";}#sk-container-id-2 div.sk-estimator input.sk-toggleable__control:checked~label.sk-toggleable__label {background-color: #d4ebff;}#sk-container-id-2 div.sk-label input.sk-toggleable__control:checked~label.sk-toggleable__label {background-color: #d4ebff;}#sk-container-id-2 input.sk-hidden--visually {border: 0;clip: rect(1px 1px 1px 1px);clip: rect(1px, 1px, 1px, 1px);height: 1px;margin: -1px;overflow: hidden;padding: 0;position: absolute;width: 1px;}#sk-container-id-2 div.sk-estimator {font-family: monospace;background-color: #f0f8ff;border: 1px dotted black;border-radius: 0.25em;box-sizing: border-box;margin-bottom: 0.5em;}#sk-container-id-2 div.sk-estimator:hover {background-color: #d4ebff;}#sk-container-id-2 div.sk-parallel-item::after {content: \"\";width: 100%;border-bottom: 1px solid gray;flex-grow: 1;}#sk-container-id-2 div.sk-label:hover label.sk-toggleable__label {background-color: #d4ebff;}#sk-container-id-2 div.sk-serial::before {content: \"\";position: absolute;border-left: 1px solid gray;box-sizing: border-box;top: 0;bottom: 0;left: 50%;z-index: 0;}#sk-container-id-2 div.sk-serial {display: flex;flex-direction: column;align-items: center;background-color: white;padding-right: 0.2em;padding-left: 0.2em;position: relative;}#sk-container-id-2 div.sk-item {position: relative;z-index: 1;}#sk-container-id-2 div.sk-parallel {display: flex;align-items: stretch;justify-content: center;background-color: white;position: relative;}#sk-container-id-2 div.sk-item::before, #sk-container-id-2 div.sk-parallel-item::before {content: \"\";position: absolute;border-left: 1px solid gray;box-sizing: border-box;top: 0;bottom: 0;left: 50%;z-index: -1;}#sk-container-id-2 div.sk-parallel-item {display: flex;flex-direction: column;z-index: 1;position: relative;background-color: white;}#sk-container-id-2 div.sk-parallel-item:first-child::after {align-self: flex-end;width: 50%;}#sk-container-id-2 div.sk-parallel-item:last-child::after {align-self: flex-start;width: 50%;}#sk-container-id-2 div.sk-parallel-item:only-child::after {width: 0;}#sk-container-id-2 div.sk-dashed-wrapped {border: 1px dashed gray;margin: 0 0.4em 0.5em 0.4em;box-sizing: border-box;padding-bottom: 0.4em;background-color: white;}#sk-container-id-2 div.sk-label label {font-family: monospace;font-weight: bold;display: inline-block;line-height: 1.2em;}#sk-container-id-2 div.sk-label-container {text-align: center;}#sk-container-id-2 div.sk-container {/* jupyter's `normalize.less` sets `[hidden] { display: none; }` but bootstrap.min.css set `[hidden] { display: none !important; }` so we also need the `!important` here to be able to override the default hidden behavior on the sphinx rendered scikit-learn.org. See: https://github.com/scikit-learn/scikit-learn/issues/21755 */display: inline-block !important;position: relative;}#sk-container-id-2 div.sk-text-repr-fallback {display: none;}</style><div id=\"sk-container-id-2\" class=\"sk-top-container\"><div class=\"sk-text-repr-fallback\"><pre>LinearRegression()</pre><b>In a Jupyter environment, please rerun this cell to show the HTML representation or trust the notebook. <br />On GitHub, the HTML representation is unable to render, please try loading this page with nbviewer.org.</b></div><div class=\"sk-container\" hidden><div class=\"sk-item\"><div class=\"sk-estimator sk-toggleable\"><input class=\"sk-toggleable__control sk-hidden--visually\" id=\"sk-estimator-id-2\" type=\"checkbox\" checked><label for=\"sk-estimator-id-2\" class=\"sk-toggleable__label sk-toggleable__label-arrow\">LinearRegression</label><div class=\"sk-toggleable__content\"><pre>LinearRegression()</pre></div></div></div></div></div>"
            ]
          },
          "metadata": {},
          "execution_count": 70
        }
      ]
    },
    {
      "cell_type": "code",
      "source": [
        "# Get the slope and intercept\n",
        "slope = model.coef_\n",
        "intercept = model.intercept_"
      ],
      "metadata": {
        "id": "0lzrH-W_awOy"
      },
      "execution_count": 71,
      "outputs": []
    },
    {
      "cell_type": "code",
      "source": [
        "slope"
      ],
      "metadata": {
        "colab": {
          "base_uri": "https://localhost:8080/"
        },
        "id": "pZngvQK8aqnF",
        "outputId": "caba7ffc-5e9e-4745-8dc4-49586facf6f5"
      },
      "execution_count": 72,
      "outputs": [
        {
          "output_type": "execute_result",
          "data": {
            "text/plain": [
              "array([-0.00165299,  0.0130497 ])"
            ]
          },
          "metadata": {},
          "execution_count": 72
        }
      ]
    },
    {
      "cell_type": "code",
      "source": [
        "intercept"
      ],
      "metadata": {
        "colab": {
          "base_uri": "https://localhost:8080/"
        },
        "id": "GGxIgdxsaqqV",
        "outputId": "33f308fd-fcf0-4690-bd81-27bb072cf3be"
      },
      "execution_count": 73,
      "outputs": [
        {
          "output_type": "execute_result",
          "data": {
            "text/plain": [
              "0.37551657138991634"
            ]
          },
          "metadata": {},
          "execution_count": 73
        }
      ]
    },
    {
      "cell_type": "code",
      "source": [
        "predicted = model.predict(X_test)"
      ],
      "metadata": {
        "id": "J7g4p9VxeCUB"
      },
      "execution_count": 82,
      "outputs": []
    },
    {
      "cell_type": "code",
      "source": [
        "expected = y_test"
      ],
      "metadata": {
        "id": "CQPzWtqteLpv"
      },
      "execution_count": 83,
      "outputs": []
    },
    {
      "cell_type": "code",
      "source": [
        "for p,e in zip(predicted[::], expected[::]):\n",
        "  print(f'predicted: {p:.4f}, Expected: {e:.2f}')"
      ],
      "metadata": {
        "colab": {
          "base_uri": "https://localhost:8080/"
        },
        "id": "ZK8fmauhebM8",
        "outputId": "feb5d3fc-025b-4666-a067-0195f01da6b5"
      },
      "execution_count": 85,
      "outputs": [
        {
          "output_type": "stream",
          "name": "stdout",
          "text": [
            "predicted: 0.4327, Expected: 0.00\n",
            "predicted: 0.5575, Expected: 1.00\n",
            "predicted: 0.5431, Expected: 1.00\n",
            "predicted: 0.6125, Expected: 0.00\n",
            "predicted: 0.5222, Expected: 0.00\n",
            "predicted: 0.3786, Expected: 0.00\n",
            "predicted: 0.5362, Expected: 1.00\n",
            "predicted: 0.5501, Expected: 0.00\n",
            "predicted: 0.5622, Expected: 0.00\n",
            "predicted: 0.4123, Expected: 1.00\n",
            "predicted: 0.4087, Expected: 1.00\n",
            "predicted: 0.5629, Expected: 1.00\n",
            "predicted: 0.4408, Expected: 1.00\n",
            "predicted: 0.5495, Expected: 0.00\n",
            "predicted: 0.4482, Expected: 0.00\n",
            "predicted: 0.5116, Expected: 1.00\n",
            "predicted: 0.4299, Expected: 0.00\n",
            "predicted: 0.5184, Expected: 1.00\n",
            "predicted: 0.5493, Expected: 1.00\n",
            "predicted: 0.4186, Expected: 1.00\n",
            "predicted: 0.5616, Expected: 1.00\n",
            "predicted: 0.5679, Expected: 1.00\n",
            "predicted: 0.6117, Expected: 0.00\n",
            "predicted: 0.4373, Expected: 1.00\n",
            "predicted: 0.5411, Expected: 0.00\n",
            "predicted: 0.5465, Expected: 0.00\n",
            "predicted: 0.4570, Expected: 1.00\n",
            "predicted: 0.4038, Expected: 1.00\n",
            "predicted: 0.5364, Expected: 1.00\n",
            "predicted: 0.4324, Expected: 1.00\n",
            "predicted: 0.5365, Expected: 0.00\n",
            "predicted: 0.5330, Expected: 1.00\n",
            "predicted: 0.4152, Expected: 1.00\n",
            "predicted: 0.4508, Expected: 1.00\n",
            "predicted: 0.5917, Expected: 0.00\n",
            "predicted: 0.5349, Expected: 1.00\n",
            "predicted: 0.6054, Expected: 0.00\n",
            "predicted: 0.4378, Expected: 0.00\n",
            "predicted: 0.3739, Expected: 0.00\n",
            "predicted: 0.4353, Expected: 0.00\n",
            "predicted: 0.4295, Expected: 1.00\n",
            "predicted: 0.5080, Expected: 1.00\n",
            "predicted: 0.4283, Expected: 1.00\n",
            "predicted: 0.3961, Expected: 0.00\n",
            "predicted: 0.3978, Expected: 0.00\n",
            "predicted: 0.5972, Expected: 0.00\n",
            "predicted: 0.5150, Expected: 1.00\n",
            "predicted: 0.4315, Expected: 0.00\n",
            "predicted: 0.4747, Expected: 0.00\n",
            "predicted: 0.4231, Expected: 1.00\n",
            "predicted: 0.4656, Expected: 0.00\n",
            "predicted: 0.5400, Expected: 0.00\n",
            "predicted: 0.4422, Expected: 1.00\n",
            "predicted: 0.5315, Expected: 1.00\n",
            "predicted: 0.4414, Expected: 0.00\n",
            "predicted: 0.5501, Expected: 0.00\n",
            "predicted: 0.5287, Expected: 0.00\n",
            "predicted: 0.4063, Expected: 1.00\n",
            "predicted: 0.5291, Expected: 1.00\n",
            "predicted: 0.4600, Expected: 0.00\n",
            "predicted: 0.5428, Expected: 1.00\n",
            "predicted: 0.4884, Expected: 0.00\n",
            "predicted: 0.5380, Expected: 1.00\n",
            "predicted: 0.4944, Expected: 0.00\n",
            "predicted: 0.4152, Expected: 1.00\n",
            "predicted: 0.5823, Expected: 1.00\n",
            "predicted: 0.4776, Expected: 0.00\n",
            "predicted: 0.5568, Expected: 1.00\n",
            "predicted: 0.5425, Expected: 1.00\n",
            "predicted: 0.4981, Expected: 0.00\n",
            "predicted: 0.4419, Expected: 1.00\n",
            "predicted: 0.5537, Expected: 1.00\n",
            "predicted: 0.4347, Expected: 1.00\n",
            "predicted: 0.5457, Expected: 1.00\n",
            "predicted: 0.4649, Expected: 1.00\n",
            "predicted: 0.5665, Expected: 1.00\n",
            "predicted: 0.5377, Expected: 0.00\n",
            "predicted: 0.5613, Expected: 1.00\n",
            "predicted: 0.6135, Expected: 0.00\n",
            "predicted: 0.6089, Expected: 0.00\n",
            "predicted: 0.5311, Expected: 1.00\n",
            "predicted: 0.5568, Expected: 1.00\n",
            "predicted: 0.5106, Expected: 0.00\n",
            "predicted: 0.5105, Expected: 1.00\n",
            "predicted: 0.5427, Expected: 1.00\n",
            "predicted: 0.4419, Expected: 0.00\n",
            "predicted: 0.5889, Expected: 0.00\n",
            "predicted: 0.4428, Expected: 0.00\n",
            "predicted: 0.4578, Expected: 0.00\n",
            "predicted: 0.4431, Expected: 0.00\n",
            "predicted: 0.5740, Expected: 0.00\n",
            "predicted: 0.5299, Expected: 1.00\n",
            "predicted: 0.4547, Expected: 0.00\n",
            "predicted: 0.5676, Expected: 0.00\n",
            "predicted: 0.5166, Expected: 1.00\n",
            "predicted: 0.5046, Expected: 0.00\n",
            "predicted: 0.5572, Expected: 1.00\n",
            "predicted: 0.5600, Expected: 0.00\n",
            "predicted: 0.5881, Expected: 0.00\n",
            "predicted: 0.4572, Expected: 1.00\n",
            "predicted: 0.5435, Expected: 1.00\n",
            "predicted: 0.5593, Expected: 1.00\n",
            "predicted: 0.5392, Expected: 0.00\n",
            "predicted: 0.4524, Expected: 1.00\n",
            "predicted: 0.3838, Expected: 0.00\n",
            "predicted: 0.5635, Expected: 1.00\n",
            "predicted: 0.5354, Expected: 1.00\n",
            "predicted: 0.3977, Expected: 0.00\n",
            "predicted: 0.5077, Expected: 0.00\n",
            "predicted: 0.4050, Expected: 0.00\n",
            "predicted: 0.3982, Expected: 0.00\n",
            "predicted: 0.5349, Expected: 1.00\n",
            "predicted: 0.5343, Expected: 1.00\n",
            "predicted: 0.5774, Expected: 1.00\n",
            "predicted: 0.5726, Expected: 0.00\n",
            "predicted: 0.4613, Expected: 1.00\n",
            "predicted: 0.4210, Expected: 0.00\n",
            "predicted: 0.4866, Expected: 0.00\n",
            "predicted: 0.4281, Expected: 1.00\n",
            "predicted: 0.4703, Expected: 0.00\n",
            "predicted: 0.5882, Expected: 0.00\n",
            "predicted: 0.5307, Expected: 1.00\n",
            "predicted: 0.5940, Expected: 0.00\n",
            "predicted: 0.4297, Expected: 1.00\n",
            "predicted: 0.4451, Expected: 1.00\n",
            "predicted: 0.3465, Expected: 0.00\n",
            "predicted: 0.5268, Expected: 1.00\n",
            "predicted: 0.4581, Expected: 1.00\n",
            "predicted: 0.4420, Expected: 0.00\n",
            "predicted: 0.5231, Expected: 1.00\n",
            "predicted: 0.4855, Expected: 0.00\n",
            "predicted: 0.5110, Expected: 0.00\n",
            "predicted: 0.3952, Expected: 0.00\n",
            "predicted: 0.5441, Expected: 1.00\n",
            "predicted: 0.5372, Expected: 0.00\n",
            "predicted: 0.4291, Expected: 0.00\n",
            "predicted: 0.4429, Expected: 1.00\n",
            "predicted: 0.5753, Expected: 1.00\n",
            "predicted: 0.5361, Expected: 1.00\n",
            "predicted: 0.5238, Expected: 1.00\n",
            "predicted: 0.4607, Expected: 0.00\n",
            "predicted: 0.4810, Expected: 1.00\n",
            "predicted: 0.5497, Expected: 1.00\n",
            "predicted: 0.4492, Expected: 0.00\n",
            "predicted: 0.5413, Expected: 0.00\n",
            "predicted: 0.5751, Expected: 1.00\n",
            "predicted: 0.5610, Expected: 1.00\n",
            "predicted: 0.5233, Expected: 0.00\n",
            "predicted: 0.4679, Expected: 0.00\n",
            "predicted: 0.4296, Expected: 0.00\n",
            "predicted: 0.5006, Expected: 0.00\n",
            "predicted: 0.3600, Expected: 0.00\n",
            "predicted: 0.5821, Expected: 0.00\n",
            "predicted: 0.4465, Expected: 1.00\n",
            "predicted: 0.4215, Expected: 0.00\n",
            "predicted: 0.5253, Expected: 0.00\n",
            "predicted: 0.4532, Expected: 0.00\n",
            "predicted: 0.5887, Expected: 0.00\n",
            "predicted: 0.3719, Expected: 0.00\n",
            "predicted: 0.5522, Expected: 1.00\n",
            "predicted: 0.4458, Expected: 1.00\n",
            "predicted: 0.4444, Expected: 0.00\n",
            "predicted: 0.3745, Expected: 0.00\n",
            "predicted: 0.5713, Expected: 1.00\n",
            "predicted: 0.4753, Expected: 1.00\n",
            "predicted: 0.5332, Expected: 1.00\n",
            "predicted: 0.4454, Expected: 1.00\n",
            "predicted: 0.5327, Expected: 0.00\n",
            "predicted: 0.5446, Expected: 1.00\n",
            "predicted: 0.5652, Expected: 0.00\n",
            "predicted: 0.4441, Expected: 1.00\n",
            "predicted: 0.6016, Expected: 0.00\n",
            "predicted: 0.4210, Expected: 0.00\n",
            "predicted: 0.4417, Expected: 1.00\n",
            "predicted: 0.3629, Expected: 0.00\n",
            "predicted: 0.4928, Expected: 0.00\n",
            "predicted: 0.5416, Expected: 0.00\n",
            "predicted: 0.5396, Expected: 1.00\n",
            "predicted: 0.5372, Expected: 1.00\n",
            "predicted: 0.5817, Expected: 0.00\n",
            "predicted: 0.4649, Expected: 1.00\n",
            "predicted: 0.4858, Expected: 1.00\n",
            "predicted: 0.5553, Expected: 1.00\n",
            "predicted: 0.4446, Expected: 1.00\n",
            "predicted: 0.4510, Expected: 0.00\n",
            "predicted: 0.4037, Expected: 0.00\n",
            "predicted: 0.4976, Expected: 1.00\n",
            "predicted: 0.4302, Expected: 0.00\n",
            "predicted: 0.5884, Expected: 0.00\n",
            "predicted: 0.4159, Expected: 0.00\n",
            "predicted: 0.3731, Expected: 0.00\n",
            "predicted: 0.5282, Expected: 1.00\n",
            "predicted: 0.6229, Expected: 1.00\n",
            "predicted: 0.5550, Expected: 1.00\n",
            "predicted: 0.4330, Expected: 0.00\n",
            "predicted: 0.4465, Expected: 1.00\n",
            "predicted: 0.4864, Expected: 1.00\n",
            "predicted: 0.3802, Expected: 0.00\n",
            "predicted: 0.5632, Expected: 1.00\n",
            "predicted: 0.4183, Expected: 0.00\n",
            "predicted: 0.6147, Expected: 0.00\n",
            "predicted: 0.5349, Expected: 1.00\n",
            "predicted: 0.5502, Expected: 1.00\n",
            "predicted: 0.5121, Expected: 0.00\n",
            "predicted: 0.5416, Expected: 1.00\n",
            "predicted: 0.4195, Expected: 0.00\n",
            "predicted: 0.5662, Expected: 0.00\n",
            "predicted: 0.5812, Expected: 0.00\n",
            "predicted: 0.4300, Expected: 1.00\n",
            "predicted: 0.4297, Expected: 1.00\n",
            "predicted: 0.4380, Expected: 0.00\n",
            "predicted: 0.4205, Expected: 0.00\n",
            "predicted: 0.5190, Expected: 1.00\n",
            "predicted: 0.5652, Expected: 0.00\n",
            "predicted: 0.5399, Expected: 1.00\n",
            "predicted: 0.5678, Expected: 1.00\n",
            "predicted: 0.5092, Expected: 1.00\n",
            "predicted: 0.5701, Expected: 0.00\n",
            "predicted: 0.5666, Expected: 0.00\n",
            "predicted: 0.4626, Expected: 0.00\n",
            "predicted: 0.4040, Expected: 0.00\n",
            "predicted: 0.5710, Expected: 0.00\n",
            "predicted: 0.5496, Expected: 1.00\n",
            "predicted: 0.5315, Expected: 1.00\n",
            "predicted: 0.4292, Expected: 1.00\n",
            "predicted: 0.5390, Expected: 1.00\n",
            "predicted: 0.4374, Expected: 1.00\n",
            "predicted: 0.3893, Expected: 0.00\n",
            "predicted: 0.3528, Expected: 0.00\n",
            "predicted: 0.4620, Expected: 1.00\n",
            "predicted: 0.4325, Expected: 1.00\n",
            "predicted: 0.5991, Expected: 0.00\n",
            "predicted: 0.4965, Expected: 1.00\n",
            "predicted: 0.5907, Expected: 0.00\n",
            "predicted: 0.4503, Expected: 1.00\n",
            "predicted: 0.4879, Expected: 0.00\n",
            "predicted: 0.4489, Expected: 1.00\n",
            "predicted: 0.4144, Expected: 1.00\n",
            "predicted: 0.5329, Expected: 0.00\n",
            "predicted: 0.5356, Expected: 0.00\n",
            "predicted: 0.4261, Expected: 1.00\n",
            "predicted: 0.4315, Expected: 0.00\n",
            "predicted: 0.5251, Expected: 0.00\n",
            "predicted: 0.3962, Expected: 0.00\n",
            "predicted: 0.4916, Expected: 0.00\n",
            "predicted: 0.4601, Expected: 1.00\n",
            "predicted: 0.5808, Expected: 0.00\n",
            "predicted: 0.5532, Expected: 1.00\n",
            "predicted: 0.5355, Expected: 1.00\n",
            "predicted: 0.5455, Expected: 1.00\n",
            "predicted: 0.4423, Expected: 1.00\n",
            "predicted: 0.4507, Expected: 1.00\n",
            "predicted: 0.6004, Expected: 1.00\n",
            "predicted: 0.5661, Expected: 1.00\n",
            "predicted: 0.5190, Expected: 1.00\n",
            "predicted: 0.5805, Expected: 1.00\n",
            "predicted: 0.4189, Expected: 1.00\n",
            "predicted: 0.4111, Expected: 0.00\n",
            "predicted: 0.3553, Expected: 0.00\n",
            "predicted: 0.5434, Expected: 1.00\n",
            "predicted: 0.6025, Expected: 0.00\n",
            "predicted: 0.5635, Expected: 0.00\n",
            "predicted: 0.5128, Expected: 1.00\n",
            "predicted: 0.4076, Expected: 0.00\n",
            "predicted: 0.5224, Expected: 0.00\n",
            "predicted: 0.4220, Expected: 1.00\n",
            "predicted: 0.3712, Expected: 0.00\n",
            "predicted: 0.5496, Expected: 1.00\n",
            "predicted: 0.5942, Expected: 0.00\n",
            "predicted: 0.4344, Expected: 0.00\n",
            "predicted: 0.5735, Expected: 1.00\n",
            "predicted: 0.4488, Expected: 0.00\n",
            "predicted: 0.6143, Expected: 0.00\n",
            "predicted: 0.5369, Expected: 0.00\n",
            "predicted: 0.4814, Expected: 0.00\n",
            "predicted: 0.5330, Expected: 1.00\n",
            "predicted: 0.5487, Expected: 1.00\n",
            "predicted: 0.3658, Expected: 0.00\n",
            "predicted: 0.4941, Expected: 1.00\n",
            "predicted: 0.4591, Expected: 0.00\n",
            "predicted: 0.5532, Expected: 1.00\n",
            "predicted: 0.4946, Expected: 0.00\n",
            "predicted: 0.5371, Expected: 1.00\n",
            "predicted: 0.3574, Expected: 0.00\n",
            "predicted: 0.5117, Expected: 1.00\n",
            "predicted: 0.5748, Expected: 1.00\n",
            "predicted: 0.5509, Expected: 1.00\n",
            "predicted: 0.5790, Expected: 0.00\n",
            "predicted: 0.3724, Expected: 0.00\n",
            "predicted: 0.4186, Expected: 1.00\n",
            "predicted: 0.4645, Expected: 1.00\n",
            "predicted: 0.5941, Expected: 1.00\n",
            "predicted: 0.5611, Expected: 0.00\n",
            "predicted: 0.5370, Expected: 0.00\n",
            "predicted: 0.5200, Expected: 1.00\n",
            "predicted: 0.5698, Expected: 0.00\n",
            "predicted: 0.4940, Expected: 0.00\n",
            "predicted: 0.4090, Expected: 1.00\n",
            "predicted: 0.5766, Expected: 1.00\n",
            "predicted: 0.5395, Expected: 0.00\n"
          ]
        }
      ]
    },
    {
      "cell_type": "code",
      "source": [
        "import matplotlib.pyplot as plt"
      ],
      "metadata": {
        "id": "emE7URBrczcY"
      },
      "execution_count": 75,
      "outputs": []
    },
    {
      "cell_type": "code",
      "source": [
        "slope = slope.reshape(-1, 1)\n",
        "intercept = intercept.reshape(-1, 1)"
      ],
      "metadata": {
        "id": "CYACLXr7czfp"
      },
      "execution_count": 76,
      "outputs": []
    },
    {
      "cell_type": "code",
      "source": [
        "print(X.shape)\n",
        "print(y.shape)"
      ],
      "metadata": {
        "colab": {
          "base_uri": "https://localhost:8080/"
        },
        "id": "dn_tgInYdP1o",
        "outputId": "8a5caeb0-8921-4359-8eb7-873bddb8a942"
      },
      "execution_count": 78,
      "outputs": [
        {
          "output_type": "stream",
          "name": "stdout",
          "text": [
            "(1500, 2)\n",
            "(1500,)\n"
          ]
        }
      ]
    },
    {
      "cell_type": "code",
      "source": [
        "print(f\"Shape of X[:, 0]: {X[:, 0].shape}\")\n",
        "print(f\"Shape of y: {y.shape}\")"
      ],
      "metadata": {
        "colab": {
          "base_uri": "https://localhost:8080/"
        },
        "id": "iWAjuoagdjF_",
        "outputId": "3757bea1-b22b-4e36-e62e-bb81c399babd"
      },
      "execution_count": 80,
      "outputs": [
        {
          "output_type": "stream",
          "name": "stdout",
          "text": [
            "Shape of X[:, 0]: (1500,)\n",
            "Shape of y: (1500,)\n"
          ]
        }
      ]
    },
    {
      "cell_type": "code",
      "source": [
        "# Create a scatter plot of the training data\n",
        "plt.scatter(X_train[:, 0], y_train, color='blue', label='Training data')\n",
        "\n",
        "# Add labels and title\n",
        "plt.xlabel('X')\n",
        "plt.ylabel('y')\n",
        "plt.title('Linear Regression Model')\n",
        "\n",
        "# Show the plot\n",
        "plt.legend()\n",
        "plt.show()\n"
      ],
      "metadata": {
        "colab": {
          "base_uri": "https://localhost:8080/",
          "height": 472
        },
        "id": "J5Sfo0EsjMN9",
        "outputId": "ad39d491-43c4-4711-fa69-b0c60e23b191"
      },
      "execution_count": 112,
      "outputs": [
        {
          "output_type": "display_data",
          "data": {
            "text/plain": [
              "<Figure size 640x480 with 1 Axes>"
            ],
            "image/png": "[encoded data removed]"
          },
          "metadata": {}
        }
      ]
    }
  ]
}